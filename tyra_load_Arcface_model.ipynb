{
 "cells": [
  {
   "cell_type": "markdown",
   "metadata": {},
   "source": [
    "## Detection"
   ]
  },
  {
   "cell_type": "code",
   "execution_count": null,
   "metadata": {},
   "outputs": [
    {
     "name": "stderr",
     "output_type": "stream",
     "text": [
      "c:\\Users\\tyra_\\anaconda3\\envs\\old-env\\lib\\site-packages\\onnxruntime\\capi\\onnxruntime_inference_collection.py:65: UserWarning: Specified provider 'CUDAExecutionProvider' is not in available provider names.Available providers: 'CPUExecutionProvider'\n",
      "  warnings.warn(\n"
     ]
    },
    {
     "name": "stdout",
     "output_type": "stream",
     "text": [
      "Applied providers: ['CPUExecutionProvider'], with options: {'CPUExecutionProvider': {}}\n",
      "model ignore: C:\\Users\\tyra_/.insightface\\models\\buffalo_l\\1k3d68.onnx landmark_3d_68\n",
      "Applied providers: ['CPUExecutionProvider'], with options: {'CPUExecutionProvider': {}}\n",
      "model ignore: C:\\Users\\tyra_/.insightface\\models\\buffalo_l\\2d106det.onnx landmark_2d_106\n",
      "Applied providers: ['CPUExecutionProvider'], with options: {'CPUExecutionProvider': {}}\n",
      "find model: C:\\Users\\tyra_/.insightface\\models\\buffalo_l\\det_10g.onnx detection [1, 3, '?', '?'] 127.5 128.0\n",
      "Applied providers: ['CPUExecutionProvider'], with options: {'CPUExecutionProvider': {}}\n",
      "model ignore: C:\\Users\\tyra_/.insightface\\models\\buffalo_l\\genderage.onnx genderage\n",
      "Applied providers: ['CPUExecutionProvider'], with options: {'CPUExecutionProvider': {}}\n",
      "model ignore: C:\\Users\\tyra_/.insightface\\models\\buffalo_l\\w600k_r50.onnx recognition\n",
      "set det-size: (640, 640)\n",
      "[{'bbox': array([184.35707, 216.8244 , 605.5606 , 805.88   ], dtype=float32), 'kps': array([[303.68726, 441.71646],\n",
      "       [511.92737, 447.13327],\n",
      "       [412.73538, 584.9161 ],\n",
      "       [311.3791 , 652.30914],\n",
      "       [493.01126, 656.61456]], dtype=float32), 'det_score': 0.85027516}]\n"
     ]
    }
   ],
   "source": [
    "import cv2\n",
    "import numpy as np\n",
    "import insightface\n",
    "from insightface.app import FaceAnalysis\n",
    "from insightface.data import get_image as ins_get_image\n",
    "\n",
    "# Method-1, use FaceAnalysis\n",
    "app = FaceAnalysis(allowed_modules=['detection']) # enable detection model only\n",
    "app.prepare(ctx_id=0, det_size=(640, 640))\n",
    "image = cv2.imread('Images/Unicard_Tyra.jpg')\n",
    "face = app.get(image)\n",
    "print(face) #The output with \"detection only\" becomes bbox, kps, and det_score wich is needed for Face()"
   ]
  },
  {
   "cell_type": "code",
   "execution_count": 8,
   "metadata": {},
   "outputs": [
    {
     "ename": "AssertionError",
     "evalue": "",
     "output_type": "error",
     "traceback": [
      "\u001b[1;31m---------------------------------------------------------------------------\u001b[0m",
      "\u001b[1;31mAssertionError\u001b[0m                            Traceback (most recent call last)",
      "Cell \u001b[1;32mIn[8], line 4\u001b[0m\n\u001b[0;32m      1\u001b[0m \u001b[38;5;28;01mimport\u001b[39;00m \u001b[38;5;21;01minsightface\u001b[39;00m\n\u001b[0;32m      2\u001b[0m \u001b[38;5;28;01mfrom\u001b[39;00m \u001b[38;5;21;01minsightface\u001b[39;00m\u001b[38;5;21;01m.\u001b[39;00m\u001b[38;5;21;01mmodel_zoo\u001b[39;00m \u001b[38;5;28;01mimport\u001b[39;00m retinaface\n\u001b[1;32m----> 4\u001b[0m retinaface_model \u001b[38;5;241m=\u001b[39m \u001b[43mretinaface\u001b[49m\u001b[38;5;241;43m.\u001b[39;49m\u001b[43mRetinaFace\u001b[49m\u001b[43m(\u001b[49m\u001b[43m)\u001b[49m\n",
      "File \u001b[1;32mc:\\Users\\tyra_\\anaconda3\\envs\\old-env\\lib\\site-packages\\insightface\\model_zoo\\retinaface.py:79\u001b[0m, in \u001b[0;36mRetinaFace.__init__\u001b[1;34m(self, model_file, session)\u001b[0m\n\u001b[0;32m     77\u001b[0m \u001b[38;5;28mself\u001b[39m\u001b[38;5;241m.\u001b[39mtaskname \u001b[38;5;241m=\u001b[39m \u001b[38;5;124m'\u001b[39m\u001b[38;5;124mdetection\u001b[39m\u001b[38;5;124m'\u001b[39m\n\u001b[0;32m     78\u001b[0m \u001b[38;5;28;01mif\u001b[39;00m \u001b[38;5;28mself\u001b[39m\u001b[38;5;241m.\u001b[39msession \u001b[38;5;129;01mis\u001b[39;00m \u001b[38;5;28;01mNone\u001b[39;00m:\n\u001b[1;32m---> 79\u001b[0m     \u001b[38;5;28;01massert\u001b[39;00m \u001b[38;5;28mself\u001b[39m\u001b[38;5;241m.\u001b[39mmodel_file \u001b[38;5;129;01mis\u001b[39;00m \u001b[38;5;129;01mnot\u001b[39;00m \u001b[38;5;28;01mNone\u001b[39;00m\n\u001b[0;32m     80\u001b[0m     \u001b[38;5;28;01massert\u001b[39;00m osp\u001b[38;5;241m.\u001b[39mexists(\u001b[38;5;28mself\u001b[39m\u001b[38;5;241m.\u001b[39mmodel_file)\n\u001b[0;32m     81\u001b[0m     \u001b[38;5;28mself\u001b[39m\u001b[38;5;241m.\u001b[39msession \u001b[38;5;241m=\u001b[39m onnxruntime\u001b[38;5;241m.\u001b[39mInferenceSession(\u001b[38;5;28mself\u001b[39m\u001b[38;5;241m.\u001b[39mmodel_file, \u001b[38;5;28;01mNone\u001b[39;00m)\n",
      "\u001b[1;31mAssertionError\u001b[0m: "
     ]
    }
   ],
   "source": [
    "import insightface\n",
    "from insightface.model_zoo import retinaface\n",
    "\n",
    "retinaface_model = retinaface.RetinaFace()"
   ]
  },
  {
   "cell_type": "markdown",
   "metadata": {},
   "source": [
    "## Recognition"
   ]
  },
  {
   "cell_type": "code",
   "execution_count": 1,
   "metadata": {},
   "outputs": [
    {
     "name": "stderr",
     "output_type": "stream",
     "text": [
      "c:\\Users\\tyra_\\anaconda3\\envs\\old-env\\lib\\site-packages\\onnxruntime\\capi\\onnxruntime_inference_collection.py:65: UserWarning: Specified provider 'CUDAExecutionProvider' is not in available provider names.Available providers: 'CPUExecutionProvider'\n",
      "  warnings.warn(\n"
     ]
    },
    {
     "name": "stdout",
     "output_type": "stream",
     "text": [
      "Applied providers: ['CPUExecutionProvider'], with options: {'CPUExecutionProvider': {}}\n"
     ]
    }
   ],
   "source": [
    "import cv2\n",
    "import numpy as np\n",
    "import insightface\n",
    "from insightface.app import FaceAnalysis\n",
    "from insightface.data import get_image as ins_get_image\n",
    "\n",
    "#handler = insightface.model_zoo.get_model('adaface_model.onnx')\n",
    "\n",
    "#handler = insightface.model_zoo.get_model('C:/Users/tyra_/.insightface/models/adaface_custom/adaface_model_modified.onnx')\n",
    "handler = insightface.model_zoo.get_model('buffalo_l')  # Use 'arcface_r100_v1' or a variant\n",
    "handler.prepare(ctx_id=0)"
   ]
  },
  {
   "cell_type": "code",
   "execution_count": 2,
   "metadata": {},
   "outputs": [],
   "source": [
    "from PIL import Image\n",
    "#Images to compare\n",
    "#image = Image.open('Images\\Lord_farquaad.jpg')\n",
    "\n",
    "image_path = \"Images\\img1.jpeg\"\n",
    "image = cv2.imread(image_path)\n",
    "image = cv2.resize(image, (112, 112))  # ArcFace expects 112x112 input\n",
    "#image = cv2.cvtColor(image, cv2.COLOR_BGR2RGB)  # Convert to RGB\n",
    "\n",
    "image_path_two = \"Images\\img2.jpeg\"\n",
    "image_two = cv2.imread(image_path_two)\n",
    "image_two = cv2.resize(image_two, (112, 112))  # ArcFace expects 112x112 input\n",
    "\n",
    "image_path_three = \"Images\\img3.jpeg\"\n",
    "image_three = cv2.imread(image_path_three)\n",
    "image_three = cv2.resize(image_three, (112, 112))  # ArcFace expects 112x112 input\n",
    "#image_two = cv2.cvtColor(image_two, cv2.COLOR_BGR2RGB)  # Convert to RGB"
   ]
  },
  {
   "cell_type": "code",
   "execution_count": 5,
   "metadata": {},
   "outputs": [
    {
     "name": "stdout",
     "output_type": "stream",
     "text": [
      "similarity score:  0.51867294\n"
     ]
    }
   ],
   "source": [
    "embedding_one = handler.get_feat(image)\n",
    "embedding_two = handler.get_feat(image_two)\n",
    "\n",
    "similarity = handler.compute_sim(embedding_one,embedding_two)\n",
    "print(\"similarity score: \", similarity)\n",
    "#print(\"AdaFace Embedding:\", embedding)"
   ]
  },
  {
   "cell_type": "markdown",
   "metadata": {},
   "source": [
    "## face one"
   ]
  },
  {
   "cell_type": "code",
   "execution_count": 19,
   "metadata": {},
   "outputs": [
    {
     "name": "stderr",
     "output_type": "stream",
     "text": [
      "c:\\Users\\tyra_\\anaconda3\\envs\\old-env\\lib\\site-packages\\onnxruntime\\capi\\onnxruntime_inference_collection.py:65: UserWarning: Specified provider 'CUDAExecutionProvider' is not in available provider names.Available providers: 'CPUExecutionProvider'\n",
      "  warnings.warn(\n"
     ]
    },
    {
     "name": "stdout",
     "output_type": "stream",
     "text": [
      "Applied providers: ['CPUExecutionProvider'], with options: {'CPUExecutionProvider': {}}\n",
      "find model: C:\\Users\\tyra_/.insightface\\models\\buffalo_l\\1k3d68.onnx landmark_3d_68 ['None', 3, 192, 192] 0.0 1.0\n",
      "Applied providers: ['CPUExecutionProvider'], with options: {'CPUExecutionProvider': {}}\n",
      "find model: C:\\Users\\tyra_/.insightface\\models\\buffalo_l\\2d106det.onnx landmark_2d_106 ['None', 3, 192, 192] 0.0 1.0\n",
      "Applied providers: ['CPUExecutionProvider'], with options: {'CPUExecutionProvider': {}}\n",
      "find model: C:\\Users\\tyra_/.insightface\\models\\buffalo_l\\det_10g.onnx detection [1, 3, '?', '?'] 127.5 128.0\n",
      "Applied providers: ['CPUExecutionProvider'], with options: {'CPUExecutionProvider': {}}\n",
      "find model: C:\\Users\\tyra_/.insightface\\models\\buffalo_l\\genderage.onnx genderage ['None', 3, 96, 96] 0.0 1.0\n",
      "Applied providers: ['CPUExecutionProvider'], with options: {'CPUExecutionProvider': {}}\n",
      "find model: C:\\Users\\tyra_/.insightface\\models\\buffalo_l\\w600k_r50.onnx recognition ['None', 3, 112, 112] 127.5 127.5\n",
      "set det-size: (640, 640)\n"
     ]
    },
    {
     "name": "stderr",
     "output_type": "stream",
     "text": [
      "c:\\Users\\tyra_\\anaconda3\\envs\\old-env\\lib\\site-packages\\insightface\\utils\\transform.py:68: FutureWarning: `rcond` parameter will change to the default of machine precision times ``max(M, N)`` where M and N are the input matrix dimensions.\n",
      "To use the future default and silence this warning we advise to pass `rcond=None`, to keep using the old, explicitly pass `rcond=-1`.\n",
      "  P = np.linalg.lstsq(X_homo, Y)[0].T # Affine matrix. 3 x 4\n"
     ]
    },
    {
     "name": "stdout",
     "output_type": "stream",
     "text": [
      "Age:  46\n",
      "[-7.99583718e-02  2.53842808e-02  4.05456759e-02 -1.19850710e-02\n",
      " -1.73194874e-02  6.28882227e-03  9.44038481e-02 -3.07614356e-03\n",
      " -4.56490144e-02  2.43578441e-02  5.72096482e-02 -6.93799555e-02\n",
      "  7.40763769e-02 -5.50587522e-03  5.98645955e-02  2.62824371e-02\n",
      "  1.86352357e-02 -1.62534211e-02 -1.82303563e-02 -5.37226535e-02\n",
      " -5.37003167e-02  6.16420954e-02 -1.15886993e-04 -8.65217596e-02\n",
      "  4.26428095e-02 -1.85832160e-03  1.60047170e-02 -3.15562338e-02\n",
      " -6.97326213e-02 -2.32144576e-02 -9.47701000e-03 -5.74691826e-03\n",
      "  3.00401952e-02 -3.35292742e-02  3.22324447e-02  1.44767354e-03\n",
      "  1.23944590e-02  3.10867187e-02  5.02745137e-02  4.08194996e-02\n",
      " -1.20992272e-03 -1.13963902e-01 -4.69367765e-02 -2.30380371e-02\n",
      " -7.20560411e-03  5.95274428e-03 -3.72329284e-03 -2.57354463e-03\n",
      "  1.55881234e-02 -6.87924027e-03 -4.51876521e-02  4.83883284e-02\n",
      " -2.04785895e-02  1.05554871e-02  5.44381253e-02  2.77450634e-03\n",
      "  1.23915018e-03 -8.34683403e-02 -4.92901262e-03 -9.60385893e-03\n",
      "  3.24636437e-02 -6.00016229e-02  2.09155250e-02  6.12478983e-03\n",
      "  4.24048118e-02 -4.68252780e-04 -8.09877589e-02  7.33191893e-02\n",
      " -1.39841540e-02  1.01310700e-01  6.46041632e-02 -4.07309097e-04\n",
      " -1.05433725e-01 -7.75731925e-04 -5.07463738e-02  5.69335073e-02\n",
      "  1.60845332e-02 -5.92137966e-03  8.04933831e-02 -1.08205691e-01\n",
      " -7.65380636e-02  5.18372515e-03  3.46391685e-02  2.99120471e-02\n",
      "  4.27407809e-02  3.32962498e-02  4.52356488e-02  2.92538162e-02\n",
      " -9.53095257e-02  5.84101165e-03  7.67480209e-02  5.86198568e-02\n",
      " -8.10968950e-02 -6.51489794e-02  3.28557678e-02 -2.33240332e-02\n",
      "  5.19644469e-02  2.03551687e-02  5.32321744e-02 -3.43064032e-02\n",
      " -3.92791368e-02  2.01541279e-03  3.53750363e-02  2.54532602e-03\n",
      "  3.12068164e-02  2.45454386e-02  9.01791640e-03 -4.99468781e-02\n",
      " -3.93807031e-02  2.25739181e-02  6.36819229e-02 -3.40177189e-03\n",
      " -1.20640201e-02  6.45898283e-02  8.46148357e-02  2.95751672e-02\n",
      " -2.39592604e-02  4.19498570e-02  7.47458264e-02  3.42472480e-03\n",
      " -2.34022606e-02 -3.06606526e-03 -6.43986911e-02  9.60415304e-02\n",
      " -4.10864549e-03  1.71552543e-02 -3.53366882e-02 -9.77986678e-03\n",
      " -4.88522975e-03 -2.77466532e-02  3.21988650e-02 -4.08423841e-02\n",
      "  7.41338506e-02  5.95113896e-02 -7.42230564e-02  7.24033341e-02\n",
      " -2.85813045e-02  1.63272358e-02  2.11342312e-02  3.80804241e-02\n",
      "  4.84726168e-02  4.59354110e-02 -1.29402056e-02  4.28722277e-02\n",
      " -1.80776976e-02  1.43831884e-02  3.23925130e-02  4.66935290e-03\n",
      " -5.82616143e-02 -9.11824126e-03  8.28574062e-04 -7.05279261e-02\n",
      "  2.62153037e-02 -2.43677218e-02  1.26402872e-02  6.51836097e-02\n",
      "  2.68474519e-02 -2.76840068e-02 -8.65274966e-02 -6.87316433e-02\n",
      " -6.47561997e-02  2.25273930e-02  6.25466108e-02 -3.65734436e-02\n",
      " -3.09329424e-02 -2.33595241e-02 -1.43499002e-02  2.13498473e-02\n",
      " -6.30211085e-03  1.97952334e-03  2.28076987e-02  1.63260214e-02\n",
      "  6.42007869e-03  5.33418357e-02 -3.96430865e-03 -1.58240199e-02\n",
      " -4.56629292e-04  1.86799504e-02  5.92925325e-02  1.58649683e-02\n",
      "  4.52474356e-02 -3.60308541e-03 -5.50891310e-02  3.70591059e-02\n",
      " -8.90367031e-02 -3.17949392e-02  8.42794701e-02  2.70328429e-02\n",
      " -3.81399877e-02  3.23890597e-02  4.57453392e-02 -4.39141877e-02\n",
      " -1.84006095e-02 -9.43669025e-03  1.61487032e-02 -3.52817178e-02\n",
      " -1.20231593e-02  2.86660306e-02  8.44406858e-02 -1.82280340e-03\n",
      "  6.98386412e-03 -1.22468425e-02  4.11701053e-02  5.40338717e-02\n",
      "  6.52793869e-02  5.20244092e-02 -2.98088267e-02 -2.15055943e-02\n",
      "  3.82863097e-02  4.09097411e-02  3.33858021e-02 -7.95816481e-02\n",
      " -1.08727617e-02 -2.10259557e-02  6.29171496e-03 -4.77499552e-02\n",
      " -3.97996344e-02 -2.32302602e-02 -5.71216345e-02 -1.02007994e-03\n",
      "  1.09644933e-02  7.24818781e-02 -4.71852124e-02  3.64765152e-02\n",
      " -2.45862268e-02  5.00211269e-02  1.23982085e-02 -1.53790349e-02\n",
      " -4.21061553e-03 -1.91916190e-02 -5.97365908e-02  5.29493112e-03\n",
      "  1.44806467e-02 -6.90017864e-02 -7.68120736e-02  7.77357072e-02\n",
      "  7.94095825e-03 -2.50145160e-02  1.04664802e-03 -3.65805924e-02\n",
      "  3.60014215e-02 -2.53390428e-02 -7.31028318e-02  1.83725264e-02\n",
      "  1.04129031e-01  3.71067375e-02 -4.08939347e-02 -6.73258305e-03\n",
      " -1.49525544e-02  4.82055694e-02 -6.67447178e-03  5.99945188e-02\n",
      "  1.35131255e-02  5.76281548e-02 -2.79192645e-02  1.75785087e-02\n",
      " -3.23857479e-02 -1.41466428e-02 -2.70639881e-02  5.72017245e-02\n",
      " -8.77650380e-02 -1.17472764e-02  4.48900945e-02  1.63440667e-02\n",
      " -7.65659800e-03  7.48353358e-03 -2.06118301e-02  5.69923818e-02\n",
      "  1.70254167e-02  4.38001975e-02  3.23495008e-02  1.12959877e-01\n",
      "  3.01888362e-02 -1.42137390e-02  3.74785475e-02  5.07672019e-02\n",
      "  4.04656194e-02 -1.45782894e-02  1.77164134e-02  4.83703762e-02\n",
      "  4.42789160e-02 -1.10321501e-02 -7.57454559e-02 -9.42427889e-02\n",
      "  1.12309426e-01  1.92475803e-02  3.36916326e-03  2.18797009e-02\n",
      "  2.10380927e-02  4.61952426e-02  4.82878052e-02  5.21388501e-02\n",
      "  6.63882419e-02  1.07150832e-02 -8.33801627e-02 -1.31082349e-02\n",
      "  1.30682234e-02 -1.62970126e-02 -6.17837347e-02 -1.05710924e-01\n",
      " -6.60225982e-03 -4.55821771e-03 -2.55297106e-02 -3.86355408e-02\n",
      " -3.88258719e-03 -2.60767918e-02 -3.54486778e-02  3.17564346e-02\n",
      " -3.20197381e-02 -1.28972810e-03 -5.56394123e-02  5.85622601e-02\n",
      "  2.44620014e-02 -6.86123520e-02 -2.99645141e-02  6.78697452e-02\n",
      " -6.81599081e-02 -1.32501973e-02 -7.93978497e-02  5.73599339e-02\n",
      "  2.71177269e-03 -2.60587167e-02  1.52406720e-02  1.42171541e-02\n",
      "  3.38400044e-02 -5.51508665e-02  1.50140356e-02  1.03930481e-01\n",
      " -6.10289676e-03 -2.32123248e-02  2.76299026e-02  1.35339014e-02\n",
      "  7.51422048e-02 -1.05833165e-01 -4.51073572e-02 -1.09530669e-02\n",
      " -6.61235601e-02  7.32809827e-02  6.08661864e-03  7.19108135e-02\n",
      "  4.22843881e-02 -3.74266356e-02 -2.19840948e-02 -9.63216554e-03\n",
      " -2.33641416e-02  7.10549802e-02  4.73061800e-02  1.46496668e-02\n",
      "  1.86163634e-05 -3.31495292e-02  8.74987710e-03 -5.56102172e-02\n",
      "  1.17516471e-02 -8.97302404e-02  2.78122500e-02 -3.52201164e-02\n",
      "  3.23040574e-03  3.40735465e-02 -2.38776654e-02 -1.01341195e-01\n",
      " -3.71541046e-02 -7.93678046e-04  4.12733592e-02 -2.65964959e-02\n",
      "  4.58268449e-02  4.28234972e-02  5.15842717e-03 -5.99983446e-02\n",
      " -1.81081444e-02  1.98524073e-02 -6.41951263e-02 -6.71766279e-03\n",
      "  5.87633904e-03 -1.47108734e-02  3.99032375e-03  8.65003560e-04\n",
      "  1.73297953e-02 -1.92627683e-02 -3.81059051e-02  1.39532596e-01\n",
      " -3.78510058e-02 -3.99835268e-03  7.79188052e-02  3.27530727e-02\n",
      " -6.28636545e-03  5.43959904e-03 -2.71909703e-02  2.18837988e-02\n",
      "  1.25166383e-02 -9.08666998e-02 -1.65832750e-02 -2.91722012e-03\n",
      " -6.03246503e-03  3.75393331e-02 -4.35884409e-02 -4.39293273e-02\n",
      "  3.95835526e-02 -2.45116930e-02 -6.25754148e-02  1.97287439e-03\n",
      " -1.53284136e-03 -3.60690877e-02 -5.99171296e-02 -5.15547842e-02\n",
      "  3.81394252e-02 -1.35899978e-02 -4.01716456e-02  4.70669009e-02\n",
      "  4.08525988e-02 -1.14062317e-01 -4.39586416e-02 -4.03059609e-02\n",
      " -6.63696975e-02  5.79484692e-03 -1.02815755e-01 -1.53516028e-02\n",
      "  5.86540177e-02 -7.09792450e-02  1.79526825e-02  4.45887297e-02\n",
      "  6.80890027e-03  4.24630828e-02  1.74296182e-03  2.02669930e-02\n",
      "  6.39650151e-02  3.51149775e-02 -4.67694644e-03 -1.87516101e-02\n",
      "  2.41988227e-02 -2.62488667e-02 -6.42417595e-02  8.18593800e-03\n",
      " -4.81542349e-02  7.64593994e-03 -5.03149517e-02 -5.98404184e-02\n",
      "  2.87494753e-02  4.51445915e-02  4.21224646e-02 -6.84849918e-02\n",
      " -4.22750302e-02 -3.04757375e-02  1.64388623e-02 -1.87474638e-02\n",
      " -3.85312401e-02  3.94581854e-02 -3.95460837e-02  3.67860831e-02\n",
      "  4.03575525e-02  6.06251601e-03 -1.88863615e-03  2.69184690e-02\n",
      " -3.01575046e-02 -2.70955674e-02  2.27265470e-02  3.97206843e-02\n",
      "  3.57147679e-02  5.04616611e-02  1.76846217e-02 -7.98126310e-02\n",
      " -2.15895697e-02  1.43863517e-03  8.92077535e-02 -1.77612361e-02\n",
      "  6.17750213e-02  2.51898728e-02  2.33112853e-02 -2.02904381e-02\n",
      "  4.43179496e-02 -9.23653916e-02 -6.12298306e-03  4.30227630e-02\n",
      "  7.17027066e-03  2.00350825e-02  2.41550766e-02 -7.69843534e-03\n",
      "  1.03214500e-03  2.80256849e-03 -2.09015030e-02 -3.33902426e-02\n",
      " -5.12217432e-02 -4.61087637e-02 -7.63397217e-02 -1.84458084e-02\n",
      " -2.25037206e-02 -2.39085290e-03  1.25638470e-02 -5.03119640e-02\n",
      " -3.42992283e-02  2.02831551e-02 -2.52381954e-02  1.23754237e-02\n",
      " -7.59169012e-02 -3.38382386e-02  6.81352541e-02 -1.02154789e-02\n",
      " -4.40162160e-02 -7.75255337e-02  2.06285920e-02  3.78813408e-02\n",
      " -2.93954415e-03 -3.95063423e-02 -5.75279705e-02 -6.34851083e-02\n",
      "  2.68285312e-02  5.98250665e-02 -3.04584950e-02 -3.51530910e-02\n",
      " -8.71676207e-03 -2.12687291e-02 -1.62003245e-02 -1.39414016e-02]\n"
     ]
    }
   ],
   "source": [
    "# Initialize the FaceAnalysis app\n",
    "app = FaceAnalysis()\n",
    "app.prepare(ctx_id=0, det_size=(640, 640))  # ctx_id=-1 for CPU, 0 for GPU\n",
    "\n",
    "# Get feature vector for the first image \n",
    "image = cv2.imread('Images/img1.jpeg')\n",
    "#image = image.resize((640, 640))\n",
    "img = np.array(image)#[:, :, ::-1]\n",
    "img_one = app.get(img)\n",
    "\n",
    "# Method-1, use FaceAnalysis\n",
    "#app = FaceAnalysis(allowed_modules=['detection']) # enable detection model only\n",
    "#app.prepare(ctx_id=0, det_size=(640, 640))\n",
    "#image = cv2.imread('Images/Unicard_Tyra.jpg')\n",
    "#app.get(image)\n",
    "\n",
    "for idx, face in enumerate(img_one):\n",
    "    #print(f\"Face {idx+1} Embedding:\", face.embedding)  # ArcFace embeddings\n",
    "    face_one = face.normed_embedding\n",
    "    print(\"Age: \", face.age)\n",
    "    \n",
    "print(face_one)"
   ]
  },
  {
   "cell_type": "markdown",
   "metadata": {},
   "source": [
    "## face two"
   ]
  },
  {
   "cell_type": "code",
   "execution_count": 25,
   "metadata": {},
   "outputs": [
    {
     "name": "stdout",
     "output_type": "stream",
     "text": [
      "Applied providers: ['CPUExecutionProvider'], with options: {'CPUExecutionProvider': {}}\n",
      "find model: C:\\Users\\tyra_/.insightface\\models\\buffalo_l\\1k3d68.onnx landmark_3d_68 ['None', 3, 192, 192] 0.0 1.0\n",
      "Applied providers: ['CPUExecutionProvider'], with options: {'CPUExecutionProvider': {}}\n",
      "find model: C:\\Users\\tyra_/.insightface\\models\\buffalo_l\\2d106det.onnx landmark_2d_106 ['None', 3, 192, 192] 0.0 1.0\n",
      "Applied providers: ['CPUExecutionProvider'], with options: {'CPUExecutionProvider': {}}\n",
      "find model: C:\\Users\\tyra_/.insightface\\models\\buffalo_l\\det_10g.onnx detection [1, 3, '?', '?'] 127.5 128.0\n",
      "Applied providers: ['CPUExecutionProvider'], with options: {'CPUExecutionProvider': {}}\n",
      "find model: C:\\Users\\tyra_/.insightface\\models\\buffalo_l\\genderage.onnx genderage ['None', 3, 96, 96] 0.0 1.0\n",
      "Applied providers: ['CPUExecutionProvider'], with options: {'CPUExecutionProvider': {}}\n",
      "find model: C:\\Users\\tyra_/.insightface\\models\\buffalo_l\\w600k_r50.onnx recognition ['None', 3, 112, 112] 127.5 127.5\n",
      "set det-size: (640, 640)\n",
      "Age:  25\n",
      "[-7.99583718e-02  2.53842808e-02  4.05456759e-02 -1.19850710e-02\n",
      " -1.73194874e-02  6.28882227e-03  9.44038481e-02 -3.07614356e-03\n",
      " -4.56490144e-02  2.43578441e-02  5.72096482e-02 -6.93799555e-02\n",
      "  7.40763769e-02 -5.50587522e-03  5.98645955e-02  2.62824371e-02\n",
      "  1.86352357e-02 -1.62534211e-02 -1.82303563e-02 -5.37226535e-02\n",
      " -5.37003167e-02  6.16420954e-02 -1.15886993e-04 -8.65217596e-02\n",
      "  4.26428095e-02 -1.85832160e-03  1.60047170e-02 -3.15562338e-02\n",
      " -6.97326213e-02 -2.32144576e-02 -9.47701000e-03 -5.74691826e-03\n",
      "  3.00401952e-02 -3.35292742e-02  3.22324447e-02  1.44767354e-03\n",
      "  1.23944590e-02  3.10867187e-02  5.02745137e-02  4.08194996e-02\n",
      " -1.20992272e-03 -1.13963902e-01 -4.69367765e-02 -2.30380371e-02\n",
      " -7.20560411e-03  5.95274428e-03 -3.72329284e-03 -2.57354463e-03\n",
      "  1.55881234e-02 -6.87924027e-03 -4.51876521e-02  4.83883284e-02\n",
      " -2.04785895e-02  1.05554871e-02  5.44381253e-02  2.77450634e-03\n",
      "  1.23915018e-03 -8.34683403e-02 -4.92901262e-03 -9.60385893e-03\n",
      "  3.24636437e-02 -6.00016229e-02  2.09155250e-02  6.12478983e-03\n",
      "  4.24048118e-02 -4.68252780e-04 -8.09877589e-02  7.33191893e-02\n",
      " -1.39841540e-02  1.01310700e-01  6.46041632e-02 -4.07309097e-04\n",
      " -1.05433725e-01 -7.75731925e-04 -5.07463738e-02  5.69335073e-02\n",
      "  1.60845332e-02 -5.92137966e-03  8.04933831e-02 -1.08205691e-01\n",
      " -7.65380636e-02  5.18372515e-03  3.46391685e-02  2.99120471e-02\n",
      "  4.27407809e-02  3.32962498e-02  4.52356488e-02  2.92538162e-02\n",
      " -9.53095257e-02  5.84101165e-03  7.67480209e-02  5.86198568e-02\n",
      " -8.10968950e-02 -6.51489794e-02  3.28557678e-02 -2.33240332e-02\n",
      "  5.19644469e-02  2.03551687e-02  5.32321744e-02 -3.43064032e-02\n",
      " -3.92791368e-02  2.01541279e-03  3.53750363e-02  2.54532602e-03\n",
      "  3.12068164e-02  2.45454386e-02  9.01791640e-03 -4.99468781e-02\n",
      " -3.93807031e-02  2.25739181e-02  6.36819229e-02 -3.40177189e-03\n",
      " -1.20640201e-02  6.45898283e-02  8.46148357e-02  2.95751672e-02\n",
      " -2.39592604e-02  4.19498570e-02  7.47458264e-02  3.42472480e-03\n",
      " -2.34022606e-02 -3.06606526e-03 -6.43986911e-02  9.60415304e-02\n",
      " -4.10864549e-03  1.71552543e-02 -3.53366882e-02 -9.77986678e-03\n",
      " -4.88522975e-03 -2.77466532e-02  3.21988650e-02 -4.08423841e-02\n",
      "  7.41338506e-02  5.95113896e-02 -7.42230564e-02  7.24033341e-02\n",
      " -2.85813045e-02  1.63272358e-02  2.11342312e-02  3.80804241e-02\n",
      "  4.84726168e-02  4.59354110e-02 -1.29402056e-02  4.28722277e-02\n",
      " -1.80776976e-02  1.43831884e-02  3.23925130e-02  4.66935290e-03\n",
      " -5.82616143e-02 -9.11824126e-03  8.28574062e-04 -7.05279261e-02\n",
      "  2.62153037e-02 -2.43677218e-02  1.26402872e-02  6.51836097e-02\n",
      "  2.68474519e-02 -2.76840068e-02 -8.65274966e-02 -6.87316433e-02\n",
      " -6.47561997e-02  2.25273930e-02  6.25466108e-02 -3.65734436e-02\n",
      " -3.09329424e-02 -2.33595241e-02 -1.43499002e-02  2.13498473e-02\n",
      " -6.30211085e-03  1.97952334e-03  2.28076987e-02  1.63260214e-02\n",
      "  6.42007869e-03  5.33418357e-02 -3.96430865e-03 -1.58240199e-02\n",
      " -4.56629292e-04  1.86799504e-02  5.92925325e-02  1.58649683e-02\n",
      "  4.52474356e-02 -3.60308541e-03 -5.50891310e-02  3.70591059e-02\n",
      " -8.90367031e-02 -3.17949392e-02  8.42794701e-02  2.70328429e-02\n",
      " -3.81399877e-02  3.23890597e-02  4.57453392e-02 -4.39141877e-02\n",
      " -1.84006095e-02 -9.43669025e-03  1.61487032e-02 -3.52817178e-02\n",
      " -1.20231593e-02  2.86660306e-02  8.44406858e-02 -1.82280340e-03\n",
      "  6.98386412e-03 -1.22468425e-02  4.11701053e-02  5.40338717e-02\n",
      "  6.52793869e-02  5.20244092e-02 -2.98088267e-02 -2.15055943e-02\n",
      "  3.82863097e-02  4.09097411e-02  3.33858021e-02 -7.95816481e-02\n",
      " -1.08727617e-02 -2.10259557e-02  6.29171496e-03 -4.77499552e-02\n",
      " -3.97996344e-02 -2.32302602e-02 -5.71216345e-02 -1.02007994e-03\n",
      "  1.09644933e-02  7.24818781e-02 -4.71852124e-02  3.64765152e-02\n",
      " -2.45862268e-02  5.00211269e-02  1.23982085e-02 -1.53790349e-02\n",
      " -4.21061553e-03 -1.91916190e-02 -5.97365908e-02  5.29493112e-03\n",
      "  1.44806467e-02 -6.90017864e-02 -7.68120736e-02  7.77357072e-02\n",
      "  7.94095825e-03 -2.50145160e-02  1.04664802e-03 -3.65805924e-02\n",
      "  3.60014215e-02 -2.53390428e-02 -7.31028318e-02  1.83725264e-02\n",
      "  1.04129031e-01  3.71067375e-02 -4.08939347e-02 -6.73258305e-03\n",
      " -1.49525544e-02  4.82055694e-02 -6.67447178e-03  5.99945188e-02\n",
      "  1.35131255e-02  5.76281548e-02 -2.79192645e-02  1.75785087e-02\n",
      " -3.23857479e-02 -1.41466428e-02 -2.70639881e-02  5.72017245e-02\n",
      " -8.77650380e-02 -1.17472764e-02  4.48900945e-02  1.63440667e-02\n",
      " -7.65659800e-03  7.48353358e-03 -2.06118301e-02  5.69923818e-02\n",
      "  1.70254167e-02  4.38001975e-02  3.23495008e-02  1.12959877e-01\n",
      "  3.01888362e-02 -1.42137390e-02  3.74785475e-02  5.07672019e-02\n",
      "  4.04656194e-02 -1.45782894e-02  1.77164134e-02  4.83703762e-02\n",
      "  4.42789160e-02 -1.10321501e-02 -7.57454559e-02 -9.42427889e-02\n",
      "  1.12309426e-01  1.92475803e-02  3.36916326e-03  2.18797009e-02\n",
      "  2.10380927e-02  4.61952426e-02  4.82878052e-02  5.21388501e-02\n",
      "  6.63882419e-02  1.07150832e-02 -8.33801627e-02 -1.31082349e-02\n",
      "  1.30682234e-02 -1.62970126e-02 -6.17837347e-02 -1.05710924e-01\n",
      " -6.60225982e-03 -4.55821771e-03 -2.55297106e-02 -3.86355408e-02\n",
      " -3.88258719e-03 -2.60767918e-02 -3.54486778e-02  3.17564346e-02\n",
      " -3.20197381e-02 -1.28972810e-03 -5.56394123e-02  5.85622601e-02\n",
      "  2.44620014e-02 -6.86123520e-02 -2.99645141e-02  6.78697452e-02\n",
      " -6.81599081e-02 -1.32501973e-02 -7.93978497e-02  5.73599339e-02\n",
      "  2.71177269e-03 -2.60587167e-02  1.52406720e-02  1.42171541e-02\n",
      "  3.38400044e-02 -5.51508665e-02  1.50140356e-02  1.03930481e-01\n",
      " -6.10289676e-03 -2.32123248e-02  2.76299026e-02  1.35339014e-02\n",
      "  7.51422048e-02 -1.05833165e-01 -4.51073572e-02 -1.09530669e-02\n",
      " -6.61235601e-02  7.32809827e-02  6.08661864e-03  7.19108135e-02\n",
      "  4.22843881e-02 -3.74266356e-02 -2.19840948e-02 -9.63216554e-03\n",
      " -2.33641416e-02  7.10549802e-02  4.73061800e-02  1.46496668e-02\n",
      "  1.86163634e-05 -3.31495292e-02  8.74987710e-03 -5.56102172e-02\n",
      "  1.17516471e-02 -8.97302404e-02  2.78122500e-02 -3.52201164e-02\n",
      "  3.23040574e-03  3.40735465e-02 -2.38776654e-02 -1.01341195e-01\n",
      " -3.71541046e-02 -7.93678046e-04  4.12733592e-02 -2.65964959e-02\n",
      "  4.58268449e-02  4.28234972e-02  5.15842717e-03 -5.99983446e-02\n",
      " -1.81081444e-02  1.98524073e-02 -6.41951263e-02 -6.71766279e-03\n",
      "  5.87633904e-03 -1.47108734e-02  3.99032375e-03  8.65003560e-04\n",
      "  1.73297953e-02 -1.92627683e-02 -3.81059051e-02  1.39532596e-01\n",
      " -3.78510058e-02 -3.99835268e-03  7.79188052e-02  3.27530727e-02\n",
      " -6.28636545e-03  5.43959904e-03 -2.71909703e-02  2.18837988e-02\n",
      "  1.25166383e-02 -9.08666998e-02 -1.65832750e-02 -2.91722012e-03\n",
      " -6.03246503e-03  3.75393331e-02 -4.35884409e-02 -4.39293273e-02\n",
      "  3.95835526e-02 -2.45116930e-02 -6.25754148e-02  1.97287439e-03\n",
      " -1.53284136e-03 -3.60690877e-02 -5.99171296e-02 -5.15547842e-02\n",
      "  3.81394252e-02 -1.35899978e-02 -4.01716456e-02  4.70669009e-02\n",
      "  4.08525988e-02 -1.14062317e-01 -4.39586416e-02 -4.03059609e-02\n",
      " -6.63696975e-02  5.79484692e-03 -1.02815755e-01 -1.53516028e-02\n",
      "  5.86540177e-02 -7.09792450e-02  1.79526825e-02  4.45887297e-02\n",
      "  6.80890027e-03  4.24630828e-02  1.74296182e-03  2.02669930e-02\n",
      "  6.39650151e-02  3.51149775e-02 -4.67694644e-03 -1.87516101e-02\n",
      "  2.41988227e-02 -2.62488667e-02 -6.42417595e-02  8.18593800e-03\n",
      " -4.81542349e-02  7.64593994e-03 -5.03149517e-02 -5.98404184e-02\n",
      "  2.87494753e-02  4.51445915e-02  4.21224646e-02 -6.84849918e-02\n",
      " -4.22750302e-02 -3.04757375e-02  1.64388623e-02 -1.87474638e-02\n",
      " -3.85312401e-02  3.94581854e-02 -3.95460837e-02  3.67860831e-02\n",
      "  4.03575525e-02  6.06251601e-03 -1.88863615e-03  2.69184690e-02\n",
      " -3.01575046e-02 -2.70955674e-02  2.27265470e-02  3.97206843e-02\n",
      "  3.57147679e-02  5.04616611e-02  1.76846217e-02 -7.98126310e-02\n",
      " -2.15895697e-02  1.43863517e-03  8.92077535e-02 -1.77612361e-02\n",
      "  6.17750213e-02  2.51898728e-02  2.33112853e-02 -2.02904381e-02\n",
      "  4.43179496e-02 -9.23653916e-02 -6.12298306e-03  4.30227630e-02\n",
      "  7.17027066e-03  2.00350825e-02  2.41550766e-02 -7.69843534e-03\n",
      "  1.03214500e-03  2.80256849e-03 -2.09015030e-02 -3.33902426e-02\n",
      " -5.12217432e-02 -4.61087637e-02 -7.63397217e-02 -1.84458084e-02\n",
      " -2.25037206e-02 -2.39085290e-03  1.25638470e-02 -5.03119640e-02\n",
      " -3.42992283e-02  2.02831551e-02 -2.52381954e-02  1.23754237e-02\n",
      " -7.59169012e-02 -3.38382386e-02  6.81352541e-02 -1.02154789e-02\n",
      " -4.40162160e-02 -7.75255337e-02  2.06285920e-02  3.78813408e-02\n",
      " -2.93954415e-03 -3.95063423e-02 -5.75279705e-02 -6.34851083e-02\n",
      "  2.68285312e-02  5.98250665e-02 -3.04584950e-02 -3.51530910e-02\n",
      " -8.71676207e-03 -2.12687291e-02 -1.62003245e-02 -1.39414016e-02]\n"
     ]
    }
   ],
   "source": [
    "# Initialize the FaceAnalysis app\n",
    "app = FaceAnalysis()\n",
    "app.prepare(ctx_id=0, det_size=(640, 640))  # ctx_id=-1 for CPU, 0 for GPU\n",
    "\n",
    "# Get feature vector for the first image \n",
    "image = cv2.imread('Images/Martin.jpg')\n",
    "#image = image.resize((640, 640))\n",
    "img = np.array(image)#[:, :, ::-1]\n",
    "img_one = app.get(img)\n",
    "\n",
    "# Method-1, use FaceAnalysis\n",
    "#app = FaceAnalysis(allowed_modules=['detection']) # enable detection model only\n",
    "#app.prepare(ctx_id=0, det_size=(640, 640))\n",
    "#image = cv2.imread('Images/Unicard_Tyra.jpg')\n",
    "#app.get(image)\n",
    "\n",
    "for idx, face in enumerate(img_one):\n",
    "    #print(f\"Face {idx+1} Embedding:\", face.embedding)  # ArcFace embeddings\n",
    "    face_two = face.normed_embedding\n",
    "    print(\"Age: \", face.age)\n",
    "    \n",
    "print(face_one)"
   ]
  },
  {
   "cell_type": "code",
   "execution_count": 26,
   "metadata": {},
   "outputs": [
    {
     "name": "stdout",
     "output_type": "stream",
     "text": [
      "similarity score:  -0.03160381\n"
     ]
    }
   ],
   "source": [
    "similarity = handler.compute_sim(face_one,face_two)\n",
    "print(\"similarity score: \", similarity)"
   ]
  }
 ],
 "metadata": {
  "kernelspec": {
   "display_name": "old-env",
   "language": "python",
   "name": "python3"
  },
  "language_info": {
   "codemirror_mode": {
    "name": "ipython",
    "version": 3
   },
   "file_extension": ".py",
   "mimetype": "text/x-python",
   "name": "python",
   "nbconvert_exporter": "python",
   "pygments_lexer": "ipython3",
   "version": "3.8.20"
  }
 },
 "nbformat": 4,
 "nbformat_minor": 2
}
