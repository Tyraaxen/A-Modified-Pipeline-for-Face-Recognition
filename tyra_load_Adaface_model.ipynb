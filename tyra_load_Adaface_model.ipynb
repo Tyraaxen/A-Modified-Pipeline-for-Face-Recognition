{
 "cells": [
  {
   "cell_type": "code",
   "execution_count": null,
   "metadata": {},
   "outputs": [],
   "source": [
    "#import onnx\n",
    "\n",
    "#model = onnx.load(\"C:/Users/tyra_/.insightface/models/adaface_custom/adaface_model.onnx\")\n",
    "#print(\"Model Outputs:\")\n",
    "#for output in model.graph.output:\n",
    "#    print(output.name, output.type)\n",
    "    \n",
    "# Remove the second output (shape (1, 1))\n",
    "#model.graph.output.remove(model.graph.output[1])\n",
    "\n",
    "# Save the modified model\n",
    "#onnx.save(model, \"C:/Users/tyra_/.insightface/models/adaface_custom/adaface_model_modified.onnx\")"
   ]
  },
  {
   "cell_type": "code",
   "execution_count": 4,
   "metadata": {},
   "outputs": [
    {
     "name": "stdout",
     "output_type": "stream",
     "text": [
      "Applied providers: ['CPUExecutionProvider'], with options: {'CPUExecutionProvider': {}}\n",
      "Applied providers: ['CPUExecutionProvider'], with options: {'CPUExecutionProvider': {}}\n",
      "find model: C:\\Users\\tyra_/.insightface\\models\\adaface_101\\2d106det.onnx landmark_2d_106 ['None', 3, 192, 192] 0.0 1.0\n",
      "Applied providers: ['CPUExecutionProvider'], with options: {'CPUExecutionProvider': {}}\n",
      "find model: C:\\Users\\tyra_/.insightface\\models\\adaface_101\\adaface_ir101_webface12m_modified.onnx recognition ['batch_size', 3, 112, 112] 127.5 127.5\n",
      "Applied providers: ['CPUExecutionProvider'], with options: {'CPUExecutionProvider': {}}\n",
      "find model: C:\\Users\\tyra_/.insightface\\models\\adaface_101\\det_10g.onnx detection [1, 3, '?', '?'] 127.5 128.0\n",
      "Applied providers: ['CPUExecutionProvider'], with options: {'CPUExecutionProvider': {}}\n",
      "find model: C:\\Users\\tyra_/.insightface\\models\\adaface_101\\genderage.onnx genderage ['None', 3, 96, 96] 0.0 1.0\n",
      "set det-size: (640, 640)\n"
     ]
    }
   ],
   "source": [
    "import cv2\n",
    "import numpy as np\n",
    "import insightface\n",
    "from insightface.app import FaceAnalysis\n",
    "from insightface.data import get_image as ins_get_image\n",
    "\n",
    "#First create handler with our own Adaface model\n",
    "handler = insightface.model_zoo.get_model('C:/Users/tyra_/.insightface/models/adaface_custom/adaface_model_modified.onnx')\n",
    "handler.prepare(ctx_id=0)\n",
    "\n",
    "\n",
    "#Then use FaceAnalysis to extract face\n",
    "app = FaceAnalysis(name='adaface_101') # changed so that it used Adaface Instead of Arcface as feature extractor. \n",
    "app.prepare(ctx_id=0, det_size=(640, 640))"
   ]
  },
  {
   "cell_type": "code",
   "execution_count": 5,
   "metadata": {},
   "outputs": [],
   "source": [
    "image = cv2.imread(\"Images\\img1.jpeg\")\n",
    "image = cv2.cvtColor(image, cv2.COLOR_RGB2BGR)  # Convert to RGB\n",
    "features_one = app.get(image)\n",
    "\n",
    "image_two = cv2.imread(\"Images\\img2.jpeg\")\n",
    "image_two = cv2.cvtColor(image_two, cv2.COLOR_RGB2BGR)  # Convert to RGB\n",
    "features_two = app.get(image_two)"
   ]
  },
  {
   "cell_type": "markdown",
   "metadata": {},
   "source": [
    "# Extract embeddings"
   ]
  },
  {
   "cell_type": "code",
   "execution_count": 6,
   "metadata": {},
   "outputs": [
    {
     "name": "stdout",
     "output_type": "stream",
     "text": [
      "similarity score:  0.74865687\n"
     ]
    }
   ],
   "source": [
    "# Extract embeddings from the features list\n",
    "embeddings_one = np.array([face['embedding'] for face in features_one])\n",
    "embeddings_two = np.array([face['embedding'] for face in features_two])\n",
    "\n",
    "# Print the result\n",
    "#print(embeddings_one)\n",
    "\n",
    "\n",
    "similarity = handler.compute_sim(embeddings_one, embeddings_two)\n",
    "print(\"similarity score: \", similarity)\n",
    "\n",
    "#features = [embeddings_one,embeddings_two]\n",
    "#similarity_scores = torch.cat(features) @ torch.cat(features).T\n",
    "#print(similarity_scores)\n"
   ]
  }
 ],
 "metadata": {
  "kernelspec": {
   "display_name": "old-env",
   "language": "python",
   "name": "python3"
  },
  "language_info": {
   "codemirror_mode": {
    "name": "ipython",
    "version": 3
   },
   "file_extension": ".py",
   "mimetype": "text/x-python",
   "name": "python",
   "nbconvert_exporter": "python",
   "pygments_lexer": "ipython3",
   "version": "3.8.20"
  }
 },
 "nbformat": 4,
 "nbformat_minor": 2
}
