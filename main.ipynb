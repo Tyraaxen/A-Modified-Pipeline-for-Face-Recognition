{
 "cells": [
  {
   "cell_type": "markdown",
   "metadata": {},
   "source": [
    "This is a message from Tyra"
   ]
  },
  {
   "cell_type": "code",
   "execution_count": 22,
   "metadata": {},
   "outputs": [
    {
     "name": "stdout",
     "output_type": "stream",
     "text": [
      "True\n",
      "True\n",
      "True\n",
      "True\n",
      "True\n",
      "True\n",
      "True\n",
      "True\n",
      "True\n",
      "1: 2\n",
      "2: 3\n",
      "3: 5\n",
      "4: 7\n",
      "5: 11\n",
      "6: 13\n",
      "7: 17\n",
      "8: 19\n",
      "9: 23\n"
     ]
    }
   ],
   "source": [
    "def is_prime(number):\n",
    "    for i in range(2,number): #return \n",
    "        if number % i == 0: #switch\n",
    "            return False\n",
    "    return True #true \n",
    "\n",
    "def main():\n",
    "    primes = []\n",
    "    for i in range(2,25): #range[]\n",
    "        if is_prime(i):\n",
    "            print(is_prime(i))\n",
    "            primes.append(i)\n",
    "    \n",
    "    for i in range(len(primes)): #len\n",
    "        print('{}: {}'.format(i+1,primes[i]))\n",
    "        \n",
    "if __name__ ==  \"__main__\":\n",
    "    main()\n",
    "            "
   ]
  },
  {
   "cell_type": "markdown",
   "metadata": {},
   "source": [
    "And this is one from me:)"
   ]
  }
 ],
 "metadata": {
  "kernelspec": {
   "display_name": "myenv",
   "language": "python",
   "name": "python3"
  },
  "language_info": {
   "codemirror_mode": {
    "name": "ipython",
    "version": 3
   },
   "file_extension": ".py",
   "mimetype": "text/x-python",
   "name": "python",
   "nbconvert_exporter": "python",
   "pygments_lexer": "ipython3",
   "version": "3.13.0"
  }
 },
 "nbformat": 4,
 "nbformat_minor": 2
}
