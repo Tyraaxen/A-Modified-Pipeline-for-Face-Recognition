{
 "cells": [
  {
   "cell_type": "code",
   "execution_count": null,
   "metadata": {},
   "outputs": [
    {
     "name": "stdout",
     "output_type": "stream",
     "text": [
      "Model Outputs:\n",
      "output tensor_type {\n",
      "  elem_type: 1\n",
      "  shape {\n",
      "    dim {\n",
      "      dim_param: \"batch_size\"\n",
      "    }\n",
      "    dim {\n",
      "      dim_value: 512\n",
      "    }\n",
      "  }\n",
      "}\n",
      "\n",
      "1379 tensor_type {\n",
      "  elem_type: 1\n",
      "  shape {\n",
      "    dim {\n",
      "      dim_value: 1\n",
      "    }\n",
      "    dim {\n",
      "      dim_value: 1\n",
      "    }\n",
      "  }\n",
      "}\n",
      "\n"
     ]
    }
   ],
   "source": [
    "#import onnx\n",
    "\n",
    "#model = onnx.load(\"C:/Users/tyra_/Comp_Science_project/A-Modified-Pipeline-for-Face-Recognition/AdaFace/adaface_ir101_webface12m.onnx\")\n",
    "#print(\"Model Outputs:\")\n",
    "#for output in model.graph.output:\n",
    "#    print(output.name, output.type)\n",
    "    \n",
    "# Remove the second output (shape (1, 1))\n",
    "#model.graph.output.remove(model.graph.output[1])\n",
    "\n",
    "# Save the modified model\n",
    "#onnx.save(model, \"C:/Users/tyra_/Comp_Science_project/A-Modified-Pipeline-for-Face-Recognition/AdaFace/adaface_ir101_webface12m_modified.onnx\")"
   ]
  },
  {
   "cell_type": "code",
   "execution_count": 3,
   "metadata": {},
   "outputs": [
    {
     "name": "stderr",
     "output_type": "stream",
     "text": [
      "c:\\Users\\tyra_\\anaconda3\\envs\\old-env\\lib\\site-packages\\tqdm\\auto.py:21: TqdmWarning: IProgress not found. Please update jupyter and ipywidgets. See https://ipywidgets.readthedocs.io/en/stable/user_install.html\n",
      "  from .autonotebook import tqdm as notebook_tqdm\n"
     ]
    }
   ],
   "source": [
    "#import sys\n",
    "#import os\n",
    "#import torch\n",
    "from AdaFace.head import AdaFace"
   ]
  },
  {
   "cell_type": "code",
   "execution_count": 7,
   "metadata": {},
   "outputs": [
    {
     "name": "stdout",
     "output_type": "stream",
     "text": [
      "\n",
      "\\AdaFace with the following property\n",
      "self.m 0.4\n",
      "self.h 0.333\n",
      "self.s 64.0\n",
      "self.t_alpha 0.01\n"
     ]
    }
   ],
   "source": [
    "adaface = AdaFace(embedding_size=512,\n",
    "                  classnum=70722,\n",
    "                  m=0.4,\n",
    "                  h=0.333,\n",
    "                  s=64.,\n",
    "                  t_alpha=0.01,)"
   ]
  },
  {
   "cell_type": "code",
   "execution_count": 8,
   "metadata": {},
   "outputs": [
    {
     "name": "stdout",
     "output_type": "stream",
     "text": [
      "Current working directory: C:\\Users\\tyra_\\Comp_Science_project\\A-Modified-Pipeline-for-Face-Recognition\\AdaFace\n"
     ]
    }
   ],
   "source": [
    "import os\n",
    "print(\"Current working directory:\", os.getcwd())"
   ]
  },
  {
   "cell_type": "code",
   "execution_count": 9,
   "metadata": {},
   "outputs": [],
   "source": [
    "import os\n",
    "os.chdir('C:/Users/tyra_/Comp_Science_project/A-Modified-Pipeline-for-Face-Recognition/AdaFace')"
   ]
  },
  {
   "cell_type": "code",
   "execution_count": 10,
   "metadata": {},
   "outputs": [
    {
     "ename": "",
     "evalue": "",
     "output_type": "error",
     "traceback": [
      "\u001b[1;31mThe Kernel crashed while executing code in the current cell or a previous cell. \n",
      "\u001b[1;31mPlease review the code in the cell(s) to identify a possible cause of the failure. \n",
      "\u001b[1;31mClick <a href='https://aka.ms/vscodeJupyterKernelCrash'>here</a> for more info. \n",
      "\u001b[1;31mView Jupyter <a href='command:jupyter.viewOutput'>log</a> for further details."
     ]
    }
   ],
   "source": [
    "from AdaFace.face_alignment import align\n",
    "from AdaFace.inference import load_pretrained_model, to_input\n",
    "\n",
    "model = load_pretrained_model('ir_50')\n",
    "path = 'Tyra.jpg'\n",
    "aligned_rgb_img = align.get_aligned_face(path)\n",
    "bgr_input = to_input(aligned_rgb_img)\n",
    "feature, _ = model(bgr_input)"
   ]
  }
 ],
 "metadata": {
  "kernelspec": {
   "display_name": "old-env",
   "language": "python",
   "name": "python3"
  },
  "language_info": {
   "codemirror_mode": {
    "name": "ipython",
    "version": 3
   },
   "file_extension": ".py",
   "mimetype": "text/x-python",
   "name": "python",
   "nbconvert_exporter": "python",
   "pygments_lexer": "ipython3",
   "version": "3.8.20"
  }
 },
 "nbformat": 4,
 "nbformat_minor": 2
}
