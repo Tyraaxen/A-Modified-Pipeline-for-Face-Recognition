{
 "cells": [
  {
   "cell_type": "code",
   "execution_count": 4,
   "metadata": {},
   "outputs": [],
   "source": [
    "# conda activate testing\n",
    "import os\n",
    "import re\n",
    "import numpy as np\n",
    "import pandas as pd\n",
    "#from shutil import copyfile\n",
    "#import cv2 as cv\n",
    "from PIL import Image\n",
    "#import matplotlib.image as mpimg\n",
    "#import matplotlib.pyplot as plt\n",
    "from numpy import array\n",
    "import copy\n",
    "from facetorch import FaceAnalyzer\n",
    "from omegaconf import OmegaConf\n",
    "from torch.nn.functional import cosine_similarity\n",
    "from typing import Dict\n",
    "import operator\n",
    "import torchvision"
   ]
  },
  {
   "cell_type": "code",
   "execution_count": 6,
   "metadata": {},
   "outputs": [
    {
     "name": "stderr",
     "output_type": "stream",
     "text": [
      "{\"asctime\": \"2024-11-12 11:40:16,444\", \"levelname\": \"INFO\", \"message\": \"Initializing FaceAnalyzer\"}\n",
      "{\"asctime\": \"2024-11-12 11:40:16,444\", \"levelname\": \"INFO\", \"message\": \"Initializing BaseReader\"}\n",
      "{\"asctime\": \"2024-11-12 11:40:17,261\", \"levelname\": \"INFO\", \"message\": \"Initializing FaceDetector\"}\n",
      "Downloading...\n",
      "From: https://drive.google.com/uc?&id=1eMuOdGkiNCOUTiEbKKoPCHGCuDgiKeNC&confirm=t\n",
      "To: c:\\Users\\tyra_\\Comp_Science_project\\A-Modified-Pipeline-for-Face-Recognition\\facetorch\\models\\torchscript\\detector\\1\\model.pt\n",
      "100%|██████████| 110M/110M [00:03<00:00, 31.2MB/s] \n",
      "{\"asctime\": \"2024-11-12 11:40:23,662\", \"levelname\": \"INFO\", \"message\": \"Initializing FaceUnifier\"}\n",
      "{\"asctime\": \"2024-11-12 11:40:23,681\", \"levelname\": \"INFO\", \"message\": \"Initializing FacePredictor objects\"}\n",
      "{\"asctime\": \"2024-11-12 11:40:23,682\", \"levelname\": \"INFO\", \"message\": \"Initializing FacePredictor embed\"}\n",
      "Downloading...\n",
      "From: https://drive.google.com/uc?&id=19h3kqar1wlELAmM5hDyj9tlrUh8yjrCl&confirm=t\n",
      "To: c:\\Users\\tyra_\\Comp_Science_project\\A-Modified-Pipeline-for-Face-Recognition\\facetorch\\models\\torchscript\\predictor\\embed\\1\\model.pt\n",
      "100%|██████████| 114M/114M [00:03<00:00, 31.6MB/s] \n",
      "{\"asctime\": \"2024-11-12 11:40:29,745\", \"levelname\": \"INFO\", \"message\": \"Initializing FacePredictor verify\"}\n",
      "Downloading...\n",
      "From: https://drive.google.com/uc?&id=1WI-mP_0mGW31OHfriPUsuFS_usYh_W8p&confirm=t\n",
      "To: c:\\Users\\tyra_\\Comp_Science_project\\A-Modified-Pipeline-for-Face-Recognition\\facetorch\\models\\torchscript\\predictor\\verify\\2\\model.pt\n",
      "100%|██████████| 261M/261M [00:08<00:00, 29.2MB/s] \n",
      "{\"asctime\": \"2024-11-12 11:40:41,340\", \"levelname\": \"INFO\", \"message\": \"Initializing FacePredictor fer\"}\n",
      "Downloading...\n",
      "From: https://drive.google.com/uc?&id=1xoB5VYOd0XLjb-rQqqHWCkQvma4NytEd&confirm=t\n",
      "To: c:\\Users\\tyra_\\Comp_Science_project\\A-Modified-Pipeline-for-Face-Recognition\\facetorch\\models\\torchscript\\predictor\\fer\\2\\model.pt\n",
      "100%|██████████| 31.7M/31.7M [00:00<00:00, 32.3MB/s]\n",
      "{\"asctime\": \"2024-11-12 11:40:45,055\", \"levelname\": \"INFO\", \"message\": \"Initializing FacePredictor au\"}\n",
      "Downloading...\n",
      "From: https://drive.google.com/uc?&id=1uoVX9suSA5JVWTms3hEtJKzwO-CUR_jV&confirm=t\n",
      "To: c:\\Users\\tyra_\\Comp_Science_project\\A-Modified-Pipeline-for-Face-Recognition\\facetorch\\models\\torchscript\\predictor\\au\\1\\model.pt\n",
      "100%|██████████| 382M/382M [00:11<00:00, 34.6MB/s] \n",
      "{\"asctime\": \"2024-11-12 11:40:59,459\", \"levelname\": \"INFO\", \"message\": \"Initializing FacePredictor va\"}\n",
      "Downloading...\n",
      "From: https://drive.google.com/uc?&id=1Xl4ilNCU_DgKNhITrXb3UyQUUdm3VTKS&confirm=t\n",
      "To: c:\\Users\\tyra_\\Comp_Science_project\\A-Modified-Pipeline-for-Face-Recognition\\facetorch\\models\\torchscript\\predictor\\va\\1\\model.pt\n",
      "100%|██████████| 19.8M/19.8M [00:01<00:00, 18.2MB/s]\n",
      "{\"asctime\": \"2024-11-12 11:41:11,932\", \"levelname\": \"INFO\", \"message\": \"Initializing FacePredictor deepfake\"}\n",
      "Downloading...\n",
      "From: https://drive.google.com/uc?&id=1GjDTwQpvrkCjXOdiBy1oMkzm7nt-bXFg&confirm=t\n",
      "To: c:\\Users\\tyra_\\Comp_Science_project\\A-Modified-Pipeline-for-Face-Recognition\\facetorch\\models\\torchscript\\predictor\\deepfake\\1\\model.pt\n",
      "100%|██████████| 268M/268M [00:07<00:00, 35.6MB/s] \n",
      "{\"asctime\": \"2024-11-12 11:41:22,574\", \"levelname\": \"INFO\", \"message\": \"Initializing FacePredictor align\"}\n",
      "Downloading...\n",
      "From: https://drive.google.com/uc?&id=16gNFQdEH2nWvW3zTbdIAniKIbPAp6qBA&confirm=t\n",
      "To: c:\\Users\\tyra_\\Comp_Science_project\\A-Modified-Pipeline-for-Face-Recognition\\facetorch\\models\\torchscript\\predictor\\align\\1\\model.pt\n",
      "100%|██████████| 49.6M/49.6M [00:01<00:00, 35.4MB/s]\n",
      "{\"asctime\": \"2024-11-12 11:41:26,365\", \"levelname\": \"INFO\", \"message\": \"Initializing BaseUtilizer objects\"}\n",
      "{\"asctime\": \"2024-11-12 11:41:26,369\", \"levelname\": \"INFO\", \"message\": \"Initializing BaseUtilizer align\"}\n",
      "Downloading...\n",
      "From: https://drive.google.com/uc?&id=11tdAcFuSXqCCf58g52WT1Rpa8KuQwe2o&confirm=t\n",
      "To: c:\\Users\\tyra_\\Comp_Science_project\\A-Modified-Pipeline-for-Face-Recognition\\facetorch\\data\\3dmm\\meta.pt\n",
      "100%|██████████| 33.2M/33.2M [00:00<00:00, 33.8MB/s]\n",
      "{\"asctime\": \"2024-11-12 11:41:29,952\", \"levelname\": \"INFO\", \"message\": \"Initializing BaseUtilizer draw_boxes\"}\n",
      "{\"asctime\": \"2024-11-12 11:41:29,962\", \"levelname\": \"INFO\", \"message\": \"Initializing BaseUtilizer draw_landmarks\"}\n"
     ]
    }
   ],
   "source": [
    "path_config=\"cpu.config.yaml\" \n",
    "cfg = OmegaConf.load(path_config)\n",
    "analyzer = FaceAnalyzer(cfg.analyzer)"
   ]
  }
 ],
 "metadata": {
  "kernelspec": {
   "display_name": "env-insightface",
   "language": "python",
   "name": "python3"
  },
  "language_info": {
   "codemirror_mode": {
    "name": "ipython",
    "version": 3
   },
   "file_extension": ".py",
   "mimetype": "text/x-python",
   "name": "python",
   "nbconvert_exporter": "python",
   "pygments_lexer": "ipython3",
   "version": "3.11.10"
  }
 },
 "nbformat": 4,
 "nbformat_minor": 2
}
