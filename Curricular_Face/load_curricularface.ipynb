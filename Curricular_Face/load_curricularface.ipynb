{
 "cells": [
  {
   "cell_type": "code",
   "execution_count": 15,
   "metadata": {},
   "outputs": [
    {
     "name": "stdout",
     "output_type": "stream",
     "text": [
      "Original Outputs: ['output', '1079']\n"
     ]
    }
   ],
   "source": [
    "import onnx\n",
    "\n",
    "model = onnx.load(\"C:/Users/hanna/.insightface/models/curricularface/curricularface_model.onnx\")\n",
    "\n",
    "\n",
    "print(\"Original Outputs:\", [output.name for output in model.graph.output])\n",
    "# Remove the second output (shape (1, 1))\n",
    "model.graph.output.remove(model.graph.output[1])\n",
    "#\n",
    "# Save the modified model\n",
    "onnx.save(model, \"C:/Users/hanna/Skola/Projektkurs/A-Modified-Pipeline-for-Face-Recognition/Curricular/curricularface_model_modified.onnx\")"
   ]
  },
  {
   "cell_type": "code",
   "execution_count": 1,
   "metadata": {},
   "outputs": [
    {
     "name": "stderr",
     "output_type": "stream",
     "text": [
      "c:\\Users\\hanna\\anaconda3\\envs\\insightface2_env\\lib\\site-packages\\albumentations\\__init__.py:13: UserWarning: A new version of Albumentations is available: 2.0.3 (you have 1.4.18). Upgrade using: pip install -U albumentations. To disable automatic update checks, set the environment variable NO_ALBUMENTATIONS_UPDATE to 1.\n",
      "  check_for_updates()\n"
     ]
    },
    {
     "name": "stdout",
     "output_type": "stream",
     "text": [
      "Applied providers: ['CPUExecutionProvider'], with options: {'CPUExecutionProvider': {}}\n",
      "Applied providers: ['CPUExecutionProvider'], with options: {'CPUExecutionProvider': {}}\n",
      "find model: C:\\Users\\hanna/.insightface\\models\\curricularface\\1k3d68.onnx landmark_3d_68 ['None', 3, 192, 192] 0.0 1.0\n",
      "Applied providers: ['CPUExecutionProvider'], with options: {'CPUExecutionProvider': {}}\n",
      "find model: C:\\Users\\hanna/.insightface\\models\\curricularface\\2d106det.onnx landmark_2d_106 ['None', 3, 192, 192] 0.0 1.0\n",
      "Applied providers: ['CPUExecutionProvider'], with options: {'CPUExecutionProvider': {}}\n",
      "find model: C:\\Users\\hanna/.insightface\\models\\curricularface\\curricularface_model_modified.onnx recognition ['batch_size', 3, 112, 112] 127.5 127.5\n",
      "Applied providers: ['CPUExecutionProvider'], with options: {'CPUExecutionProvider': {}}\n",
      "find model: C:\\Users\\hanna/.insightface\\models\\curricularface\\det_10g.onnx detection [1, 3, '?', '?'] 127.5 128.0\n",
      "Applied providers: ['CPUExecutionProvider'], with options: {'CPUExecutionProvider': {}}\n",
      "find model: C:\\Users\\hanna/.insightface\\models\\curricularface\\genderage.onnx genderage ['None', 3, 96, 96] 0.0 1.0\n",
      "set det-size: (640, 640)\n"
     ]
    }
   ],
   "source": [
    "import cv2\n",
    "import numpy as np\n",
    "import insightface\n",
    "from insightface.app import FaceAnalysis\n",
    "from insightface.data import get_image as ins_get_image\n",
    "\n",
    "#First create handler with our own Adaface model\n",
    "handler = insightface.model_zoo.get_model(\"C:/Users/hanna/.insightface/models/curricularface/curricularface_model_modified.onnx\")\n",
    "\n",
    "#Then use FaceAnalysis to extract face\n",
    "app = FaceAnalysis(name='curricularface') # changed so that it uses Curricular, Adaface Instead of Arcface as feature extractor. \n",
    "app.prepare(ctx_id=0, det_size=(640, 640))"
   ]
  },
  {
   "cell_type": "code",
   "execution_count": 17,
   "metadata": {},
   "outputs": [
    {
     "name": "stderr",
     "output_type": "stream",
     "text": [
      "C:\\Users\\hanna\\Skola\\Projektkurs\\insightface\\python-package\\insightface\\utils\\transform.py:68: FutureWarning: `rcond` parameter will change to the default of machine precision times ``max(M, N)`` where M and N are the input matrix dimensions.\n",
      "To use the future default and silence this warning we advise to pass `rcond=None`, to keep using the old, explicitly pass `rcond=-1`.\n",
      "  P = np.linalg.lstsq(X_homo, Y)[0].T # Affine matrix. 3 x 4\n"
     ]
    }
   ],
   "source": [
    "image = cv2.imread(\"Images\\img1.jpeg\")\n",
    "image = cv2.cvtColor(image, cv2.COLOR_RGB2BGR)  # Convert to RGB\n",
    "features_one = app.get(image)\n",
    "\n",
    "image_two = cv2.imread(\"Images\\img2.jpeg\")\n",
    "image_two = cv2.cvtColor(image_two, cv2.COLOR_RGB2BGR)  # Convert to RGB\n",
    "features_two = app.get(image_two)"
   ]
  },
  {
   "cell_type": "markdown",
   "metadata": {},
   "source": [
    "# Extract embeddings"
   ]
  },
  {
   "cell_type": "code",
   "execution_count": 18,
   "metadata": {},
   "outputs": [
    {
     "name": "stdout",
     "output_type": "stream",
     "text": [
      "similarity score:  0.7403629\n"
     ]
    }
   ],
   "source": [
    "# Extract embeddings from the features list\n",
    "embeddings_one = np.array([face['embedding'] for face in features_one])\n",
    "embeddings_two = np.array([face['embedding'] for face in features_two])\n",
    "\n",
    "# Print the result\n",
    "#print(embeddings_one)\n",
    "\n",
    "\n",
    "similarity = handler.compute_sim(embeddings_one, embeddings_two)\n",
    "print(\"similarity score: \", similarity)\n",
    "\n",
    "\n"
   ]
  },
  {
   "cell_type": "markdown",
   "metadata": {},
   "source": [
    "## Create Inter-/Intraclass similarites \n",
    "This code requires a gpu, NVIDA based, which means it is limited in its current form."
   ]
  },
  {
   "cell_type": "code",
   "execution_count": null,
   "metadata": {},
   "outputs": [],
   "source": []
  },
  {
   "cell_type": "code",
   "execution_count": 2,
   "metadata": {},
   "outputs": [
    {
     "name": "stderr",
     "output_type": "stream",
     "text": [
      "c:\\Users\\hanna\\anaconda3\\envs\\insightface_v1\\lib\\site-packages\\albumentations\\__init__.py:13: UserWarning: A new version of Albumentations is available: 2.0.2 (you have 1.4.18). Upgrade using: pip install -U albumentations. To disable automatic update checks, set the environment variable NO_ALBUMENTATIONS_UPDATE to 1.\n",
      "  check_for_updates()\n",
      "c:\\Users\\hanna\\anaconda3\\envs\\insightface_v1\\lib\\site-packages\\onnxruntime\\capi\\onnxruntime_inference_collection.py:69: UserWarning: Specified provider 'CUDAExecutionProvider' is not in available provider names.Available providers: 'AzureExecutionProvider, CPUExecutionProvider'\n",
      "  warnings.warn(\n"
     ]
    },
    {
     "name": "stdout",
     "output_type": "stream",
     "text": [
      "Applied providers: ['CPUExecutionProvider'], with options: {'CPUExecutionProvider': {}}\n",
      "find model: C:\\Users\\hanna/.insightface\\models\\curricularface\\1k3d68.onnx landmark_3d_68 ['None', 3, 192, 192] 0.0 1.0\n",
      "Applied providers: ['CPUExecutionProvider'], with options: {'CPUExecutionProvider': {}}\n",
      "find model: C:\\Users\\hanna/.insightface\\models\\curricularface\\2d106det.onnx landmark_2d_106 ['None', 3, 192, 192] 0.0 1.0\n",
      "Applied providers: ['CPUExecutionProvider'], with options: {'CPUExecutionProvider': {}}\n",
      "find model: C:\\Users\\hanna/.insightface\\models\\curricularface\\curricularface_model_modified.onnx recognition ['batch_size', 3, 112, 112] 127.5 127.5\n",
      "Applied providers: ['CPUExecutionProvider'], with options: {'CPUExecutionProvider': {}}\n",
      "find model: C:\\Users\\hanna/.insightface\\models\\curricularface\\det_10g.onnx detection [1, 3, '?', '?'] 127.5 128.0\n",
      "Applied providers: ['CPUExecutionProvider'], with options: {'CPUExecutionProvider': {}}\n",
      "find model: C:\\Users\\hanna/.insightface\\models\\curricularface\\genderage.onnx genderage ['None', 3, 96, 96] 0.0 1.0\n",
      "set det-size: (640, 640)\n"
     ]
    }
   ],
   "source": [
    "import os\n",
    "import cv2\n",
    "import numpy as np\n",
    "import insightface\n",
    "from scipy.spatial.distance import cosine\n",
    "import matplotlib.pyplot as plt\n",
    "from scipy.stats import entropy\n",
    "\n",
    "# Initialize model\n",
    "app = insightface.app.FaceAnalysis(name='curricularface')\n",
    "app.prepare(ctx_id=0, det_size=(640, 640))\n",
    "\n",
    "# Load AGEDB dataset (Assuming structured as 'dataset/{identity}/image.jpg')\n",
    "dataset_path = r\"C:\\Users\\hanna\\Skola\\Projektkurs\\Projektkurs_Images\\AgeDB\"\n",
    "\n",
    "identity_embeddings = {}\n",
    "\n",
    "# Iterate over dataset\n",
    "for identity in os.listdir(dataset_path):\n",
    "    identity_path = os.path.join(dataset_path, identity)\n",
    "    if os.path.isdir(identity_path):\n",
    "        embeddings = []\n",
    "        for img_name in os.listdir(identity_path):\n",
    "            img_path = os.path.join(identity_path, img_name)\n",
    "            img = cv2.imread(img_path)\n",
    "            img = cv2.cvtColor(img, cv2.COLOR_BGR2RGB)\n",
    "            faces = app.get(img)\n",
    "            if faces:\n",
    "                embeddings.append(faces[0]['embedding'])\n",
    "        if embeddings:\n",
    "            identity_embeddings[identity] = np.array(embeddings)\n",
    "\n",
    "# Create intra-class and inter-class pairs\n",
    "intra_similarities = []\n",
    "inter_similarities = []\n",
    "\n",
    "identities = list(identity_embeddings.keys())\n",
    "\n",
    "for i, id1 in enumerate(identities):\n",
    "    embeddings1 = identity_embeddings[id1]\n",
    "    \n",
    "    # Compute intra-class similarity\n",
    "    for j in range(len(embeddings1)):\n",
    "        for k in range(j + 1, len(embeddings1)):\n",
    "            sim = 1 - cosine(embeddings1[j], embeddings1[k])\n",
    "            intra_similarities.append(sim)\n",
    "\n",
    "    # Compute inter-class similarity\n",
    "    for id2 in identities[i + 1:]:  \n",
    "        embeddings2 = identity_embeddings[id2]\n",
    "        for emb1 in embeddings1:\n",
    "            for emb2 in embeddings2:\n",
    "                sim = 1 - cosine(emb1, emb2)\n",
    "                inter_similarities.append(sim)\n"
   ]
  },
  {
   "cell_type": "code",
   "execution_count": null,
   "metadata": {},
   "outputs": [],
   "source": []
  },
  {
   "cell_type": "markdown",
   "metadata": {},
   "source": [
    "Plot Intra- and Inter-Class Similarities"
   ]
  },
  {
   "cell_type": "code",
   "execution_count": 3,
   "metadata": {},
   "outputs": [
    {
     "name": "stdout",
     "output_type": "stream",
     "text": [
      "Bhattacharyya Coefficient: nan\n"
     ]
    },
    {
     "name": "stderr",
     "output_type": "stream",
     "text": [
      "c:\\Users\\hanna\\anaconda3\\envs\\insightface_v1\\lib\\site-packages\\numpy\\lib\\histograms.py:883: RuntimeWarning: invalid value encountered in divide\n",
      "  return n/db/n.sum(), bin_edges\n"
     ]
    }
   ],
   "source": [
    "# Convert histograms to probability distributions\n",
    "hist_intra, bins_intra = np.histogram(intra_similarities, bins=50, density=True)\n",
    "hist_inter, bins_inter = np.histogram(inter_similarities, bins=50, density=True)\n",
    "\n",
    "# Normalize histograms\n",
    "hist_intra = hist_intra / np.sum(hist_intra)\n",
    "hist_inter = hist_inter / np.sum(hist_inter)\n",
    "\n",
    "# Compute Bhattacharyya coefficient\n",
    "bc = np.sum(np.sqrt(hist_intra * hist_inter))\n",
    "print(f\"Bhattacharyya Coefficient: {bc}\")\n"
   ]
  },
  {
   "cell_type": "markdown",
   "metadata": {},
   "source": [
    "Compute Bhattacharyya Coefficient"
   ]
  },
  {
   "cell_type": "code",
   "execution_count": 4,
   "metadata": {},
   "outputs": [
    {
     "data": {
      "image/png": "[encoded data removed]",
      "text/plain": [
       "<Figure size 1000x500 with 1 Axes>"
      ]
     },
     "metadata": {},
     "output_type": "display_data"
    }
   ],
   "source": [
    "plt.figure(figsize=(10, 5))\n",
    "plt.hist(intra_similarities, bins=50, alpha=0.5, label=\"Intra-class Similarity\", color='blue', density=True)\n",
    "plt.hist(inter_similarities, bins=50, alpha=0.5, label=\"Inter-class Similarity\", color='red', density=True)\n",
    "plt.axvline(x=0.2, color='green', linestyle='dashed', label=\"Overlap Region (0.2)\")\n",
    "plt.xlabel(\"Cosine Similarity\")\n",
    "plt.ylabel(\"Density\")\n",
    "plt.legend()\n",
    "plt.title(\"Intra-class vs Inter-class Similarity Distribution\")\n",
    "plt.show()\n"
   ]
  }
 ],
 "metadata": {
  "kernelspec": {
   "display_name": "insightface2_env",
   "language": "python",
   "name": "python3"
  },
  "language_info": {
   "codemirror_mode": {
    "name": "ipython",
    "version": 3
   },
   "file_extension": ".py",
   "mimetype": "text/x-python",
   "name": "python",
   "nbconvert_exporter": "python",
   "pygments_lexer": "ipython3",
   "version": "3.8.20"
  }
 },
 "nbformat": 4,
 "nbformat_minor": 2
}
